{
 "cells": [
  {
   "cell_type": "code",
   "execution_count": null,
   "metadata": {},
   "outputs": [
    {
     "name": "stderr",
     "output_type": "stream",
     "text": [
      "/home/amir/.conda/envs/arena/lib/python3.11/site-packages/transformers/utils/generic.py:309: UserWarning:\n",
      "\n",
      "torch.utils._pytree._register_pytree_node is deprecated. Please use torch.utils._pytree.register_pytree_node instead.\n",
      "\n"
     ]
    }
   ],
   "source": [
    "from nnsight import LanguageModel, util\n",
    "from nnsight.tracing.Proxy import Proxy\n",
    "from nnsight.models import NNsightModel\n",
    "model = LanguageModel('gpt2', device_map='cuda:0')"
   ]
  },
  {
   "cell_type": "code",
   "execution_count": null,
   "metadata": {},
   "outputs": [
    {
     "name": "stderr",
     "output_type": "stream",
     "text": [
      "You're using a GPT2TokenizerFast tokenizer. Please note that with a fast tokenizer, using the `__call__` method is faster than using a method to encode the text followed by a call to the `pad` method to get a padded encoding.\n",
      "Setting `pad_token_id` to `eos_token_id`:50256 for open-end generation.\n"
     ]
    },
    {
     "name": "stdout",
     "output_type": "stream",
     "text": [
      " Turing\n"
     ]
    }
   ],
   "source": [
    "with model.generate(max_new_tokens=1) as generator:\n",
    "    with generator.invoke(\"The famous computer scientist Alan\") as invoker:\n",
    "        logits = model.lm_head.output.save()\n",
    "\n",
    "\n",
    "next_token_logits = logits.value[0,-1]\n",
    "next_token_prediction = next_token_logits.argmax()\n",
    "next_word_prediction = model.tokenizer.decode(next_token_prediction)\n",
    "print(next_word_prediction)"
   ]
  },
  {
   "cell_type": "code",
   "execution_count": null,
   "metadata": {},
   "outputs": [
    {
     "data": {
      "text/plain": [
       "GPT2LMHeadModel(\n",
       "  (transformer): GPT2Model(\n",
       "    (wte): Embedding(50257, 768)\n",
       "    (wpe): Embedding(1024, 768)\n",
       "    (drop): Dropout(p=0.1, inplace=False)\n",
       "    (h): ModuleList(\n",
       "      (0-11): 12 x GPT2Block(\n",
       "        (ln_1): LayerNorm((768,), eps=1e-05, elementwise_affine=True)\n",
       "        (attn): GPT2Attention(\n",
       "          (c_attn): Conv1D()\n",
       "          (c_proj): Conv1D()\n",
       "          (attn_dropout): Dropout(p=0.1, inplace=False)\n",
       "          (resid_dropout): Dropout(p=0.1, inplace=False)\n",
       "        )\n",
       "        (ln_2): LayerNorm((768,), eps=1e-05, elementwise_affine=True)\n",
       "        (mlp): GPT2MLP(\n",
       "          (c_fc): Conv1D()\n",
       "          (c_proj): Conv1D()\n",
       "          (act): NewGELUActivation()\n",
       "          (dropout): Dropout(p=0.1, inplace=False)\n",
       "        )\n",
       "      )\n",
       "    )\n",
       "    (ln_f): LayerNorm((768,), eps=1e-05, elementwise_affine=True)\n",
       "  )\n",
       "  (lm_head): Linear(in_features=768, out_features=50257, bias=False)\n",
       ")"
      ]
     },
     "metadata": {},
     "output_type": "display_data"
    }
   ],
   "source": [
    "model"
   ]
  },
  {
   "cell_type": "code",
   "execution_count": null,
   "metadata": {},
   "outputs": [
    {
     "name": "stdout",
     "output_type": "stream",
     "text": [
      "<nnsight.intervention.InterventionProxy object at 0x7fb9033178d0> torch.Size([1, 5, 768])\n",
      "<nnsight.intervention.InterventionProxy object at 0x7fb9047932d0> torch.Size([1, 5, 768])\n",
      "<nnsight.intervention.InterventionProxy object at 0x7fb910b12b50> torch.Size([1, 5, 768])\n",
      "<nnsight.intervention.InterventionProxy object at 0x7fb900b0ca50> torch.Size([1, 5, 768])\n",
      "<nnsight.intervention.InterventionProxy object at 0x7fb900bd7750> torch.Size([1, 5, 768])\n",
      "<nnsight.intervention.InterventionProxy object at 0x7fb903de1cd0> torch.Size([1, 5, 768])\n",
      "<nnsight.intervention.InterventionProxy object at 0x7fb900bd5f90> torch.Size([1, 5, 768])\n",
      "<nnsight.intervention.InterventionProxy object at 0x7fb900bd6190> torch.Size([1, 5, 768])\n",
      "<nnsight.intervention.InterventionProxy object at 0x7fb900bd6e90> torch.Size([1, 5, 768])\n",
      "<nnsight.intervention.InterventionProxy object at 0x7fb900bdbc50> torch.Size([1, 5, 768])\n",
      "<nnsight.intervention.InterventionProxy object at 0x7fb904788050> torch.Size([1, 5, 768])\n",
      "<nnsight.intervention.InterventionProxy object at 0x7fb900bd6710> torch.Size([1, 5, 768])\n"
     ]
    }
   ],
   "source": [
    "prompt = 'The famous computer scientist Alan'\n",
    "with model.forward() as runner:\n",
    "    with runner.invoke(prompt) as invoker:\n",
    "        clean_tokens = invoker.input['input_ids'][0]\n",
    "        clean_hs = [\n",
    "            (model.transformer.h[layer_idx].output[1], model.transformer.h[layer_idx].output[0])\n",
    "            for layer_idx in range(len(model.transformer.h))\n",
    "        ]\n",
    "\n",
    "for key, layer in clean_hs:\n",
    "    print(key, layer.shape)\n"
   ]
  },
  {
   "cell_type": "code",
   "execution_count": null,
   "metadata": {},
   "outputs": [
    {
     "name": "stderr",
     "output_type": "stream",
     "text": [
      "You're using a GPT2TokenizerFast tokenizer. Please note that with a fast tokenizer, using the `__call__` method is faster than using a method to encode the text followed by a call to the `pad` method to get a padded encoding.\n"
     ]
    }
   ],
   "source": [
    "clean_prompt = \"John and Mary went to the store, Mary gave a bottle to\"\n",
    "corrupted_prompt = \"John and Mary went to the store, John gave a bottle to\"\n",
    "\n",
    "\n",
    "correct_index = model.tokenizer(\" John\")[\"input_ids\"][0]\n",
    "incorrect_index = model.tokenizer(\" Mary\")[\"input_ids\"][0]\n",
    "\n",
    "\n",
    "# Enter nnsight tracing context\n",
    "with model.forward() as runner:\n",
    "\n",
    "    # Clean run\n",
    "    with runner.invoke(clean_prompt) as invoker:\n",
    "        clean_tokens = invoker.input[\"input_ids\"][0]\n",
    "\n",
    "        # Get hidden states of all layers in the network.\n",
    "        # We index the output at 0 because it's a tuple where the first index is the hidden state.\n",
    "        # No need to call .save() as we don't need the values after the run, just within the experiment run.\n",
    "        clean_hs = [\n",
    "            model.transformer.h[layer_idx].output[0]\n",
    "            for layer_idx in range(len(model.transformer.h))\n",
    "        ]\n",
    "\n",
    "        # Get logits from the lm_head.\n",
    "        clean_logits = model.lm_head.output\n",
    "\n",
    "        # Calculate the difference between the correct answer and incorrect answer for the clean run and save it.\n",
    "        clean_logit_diff = (\n",
    "            clean_logits[0, -1, correct_index] - clean_logits[0, -1, incorrect_index]\n",
    "        ).save()\n",
    "\n",
    "    # Corrupted run\n",
    "    with runner.invoke(corrupted_prompt) as invoker:\n",
    "        corrupted_logits = model.lm_head.output\n",
    "\n",
    "        # Calculate the difference between the correct answer and incorrect answer for the corrupted run and save it.\n",
    "        corrupted_logit_diff = (\n",
    "            corrupted_logits[0, -1, correct_index]\n",
    "            - corrupted_logits[0, -1, incorrect_index]\n",
    "        ).save()\n",
    "\n",
    "    ioi_patching_results = []\n",
    "\n",
    "    # Iterate through all the layers\n",
    "    for layer_idx in range(len(model.transformer.h)):\n",
    "        _ioi_patching_results = []\n",
    "\n",
    "        # Iterate through all tokens\n",
    "        for token_idx in range(len(clean_tokens)):\n",
    "\n",
    "            # Patching corrupted run at given layer and token\n",
    "            with runner.invoke(corrupted_prompt) as invoker:\n",
    "\n",
    "                # Apply the patch from the clean hidden states to the corrupted hidden states.\n",
    "                model.transformer.h[layer_idx].output[0].t[token_idx] = clean_hs[\n",
    "                    layer_idx\n",
    "                ].t[token_idx]\n",
    "\n",
    "                patched_logits = model.lm_head.output\n",
    "\n",
    "                patched_logit_diff = (\n",
    "                    patched_logits[0, -1, correct_index]\n",
    "                    - patched_logits[0, -1, incorrect_index]\n",
    "                )\n",
    "\n",
    "                # Calculate the improvement in the correct token after patching.\n",
    "                patched_result = (patched_logit_diff - corrupted_logit_diff) / (\n",
    "                    clean_logit_diff - corrupted_logit_diff\n",
    "                )\n",
    "\n",
    "                _ioi_patching_results.append(patched_result.save())\n",
    "\n",
    "        ioi_patching_results.append(_ioi_patching_results)\n"
   ]
  },
  {
   "cell_type": "code",
   "execution_count": null,
   "metadata": {},
   "outputs": [
    {
     "name": "stdout",
     "output_type": "stream",
     "text": [
      "Clean logit difference: -0.495\n",
      "Corrupted logit difference: -4.687\n"
     ]
    },
    {
     "data": {
      "application/vnd.plotly.v1+json": {
       "config": {
        "plotlyServerURL": "https://plot.ly"
       },
       "data": [
        {
         "coloraxis": "coloraxis",
         "hovertemplate": "Position: %{x}<br>Layer: %{y}<br>color: %{z}<extra></extra>",
         "name": "0",
         "type": "heatmap",
         "x": [
          "John_0",
          " and_1",
          " Mary_2",
          " went_3",
          " to_4",
          " the_5",
          " store_6",
          ",_7",
          " Mary_8",
          " gave_9",
          " a_10",
          " bottle_11",
          " to_12"
         ],
         "xaxis": "x",
         "yaxis": "y",
         "z": [
          [
           0,
           0,
           0,
           0,
           0,
           0,
           0,
           0,
           0.9980783462524414,
           0.002285631140694022,
           -0.00043856457341462374,
           0.0008079778635874391,
           -0.00015286068082787097
          ],
          [
           0,
           0,
           0,
           0,
           0,
           0,
           0,
           0,
           0.9985059499740601,
           0.005366501864045858,
           -0.00031118065817281604,
           0.002713277004659176,
           -0.0017942931735888124
          ],
          [
           0,
           0,
           0,
           0,
           0,
           0,
           0,
           0,
           0.9936125874519348,
           0.0108585674315691,
           0.0005095356027595699,
           0.003532173577696085,
           -0.0045312270522117615
          ],
          [
           0,
           0,
           0,
           0,
           0,
           0,
           0,
           0,
           0.9773111343383789,
           0.030230019241571426,
           0.0028825155459344387,
           0.0059379092417657375,
           -0.006769544444978237
          ],
          [
           0,
           0,
           0,
           0,
           0,
           0,
           0,
           0,
           0.9372579455375671,
           0.08530353754758835,
           0.0048988210037350655,
           0.0032191730570048094,
           -0.0032428300473839045
          ],
          [
           0,
           0,
           0,
           0,
           0,
           0,
           0,
           0,
           0.939339816570282,
           0.08592953532934189,
           0.003544911975041032,
           0.0011173387756571174,
           -0.005069879349321127
          ],
          [
           0,
           0,
           0,
           0,
           0,
           0,
           0,
           0,
           0.8583763837814331,
           0.14487189054489136,
           0.006301863584667444,
           -0.0007060707430355251,
           0.00512993149459362
          ],
          [
           0,
           0,
           0,
           0,
           0,
           0,
           0,
           0,
           0.5798733234405518,
           0.04249344766139984,
           0.0009844955056905746,
           -0.0014558159746229649,
           0.5972757935523987
          ],
          [
           0,
           0,
           0,
           0,
           0,
           0,
           0,
           0,
           -0.02905990742146969,
           0.03986206278204918,
           0.0013575484044849873,
           -0.00008188965148292482,
           1.3164416551589966
          ],
          [
           0,
           0,
           0,
           0,
           0,
           0,
           0,
           0,
           -0.2092771828174591,
           0.01844700798392296,
           -0.0009189838310703635,
           -0.0009117047884501517,
           1.4047514200210571
          ],
          [
           0,
           0,
           0,
           0,
           0,
           0,
           0,
           0,
           -0.06530608236789703,
           0.006886009592562914,
           0.000054593099775956944,
           -0.0017051245085895061,
           1.1472339630126953
          ],
          [
           0,
           0,
           0,
           0,
           0,
           0,
           0,
           0,
           0,
           0,
           0,
           0,
           1
          ]
         ]
        }
       ],
       "layout": {
        "coloraxis": {
         "cmid": 0,
         "colorscale": [
          [
           0,
           "rgb(103,0,31)"
          ],
          [
           0.1,
           "rgb(178,24,43)"
          ],
          [
           0.2,
           "rgb(214,96,77)"
          ],
          [
           0.3,
           "rgb(244,165,130)"
          ],
          [
           0.4,
           "rgb(253,219,199)"
          ],
          [
           0.5,
           "rgb(247,247,247)"
          ],
          [
           0.6,
           "rgb(209,229,240)"
          ],
          [
           0.7,
           "rgb(146,197,222)"
          ],
          [
           0.8,
           "rgb(67,147,195)"
          ],
          [
           0.9,
           "rgb(33,102,172)"
          ],
          [
           1,
           "rgb(5,48,97)"
          ]
         ]
        },
        "template": {
         "data": {
          "bar": [
           {
            "error_x": {
             "color": "#2a3f5f"
            },
            "error_y": {
             "color": "#2a3f5f"
            },
            "marker": {
             "line": {
              "color": "#E5ECF6",
              "width": 0.5
             },
             "pattern": {
              "fillmode": "overlay",
              "size": 10,
              "solidity": 0.2
             }
            },
            "type": "bar"
           }
          ],
          "barpolar": [
           {
            "marker": {
             "line": {
              "color": "#E5ECF6",
              "width": 0.5
             },
             "pattern": {
              "fillmode": "overlay",
              "size": 10,
              "solidity": 0.2
             }
            },
            "type": "barpolar"
           }
          ],
          "carpet": [
           {
            "aaxis": {
             "endlinecolor": "#2a3f5f",
             "gridcolor": "white",
             "linecolor": "white",
             "minorgridcolor": "white",
             "startlinecolor": "#2a3f5f"
            },
            "baxis": {
             "endlinecolor": "#2a3f5f",
             "gridcolor": "white",
             "linecolor": "white",
             "minorgridcolor": "white",
             "startlinecolor": "#2a3f5f"
            },
            "type": "carpet"
           }
          ],
          "choropleth": [
           {
            "colorbar": {
             "outlinewidth": 0,
             "ticks": ""
            },
            "type": "choropleth"
           }
          ],
          "contour": [
           {
            "colorbar": {
             "outlinewidth": 0,
             "ticks": ""
            },
            "colorscale": [
             [
              0,
              "#0d0887"
             ],
             [
              0.1111111111111111,
              "#46039f"
             ],
             [
              0.2222222222222222,
              "#7201a8"
             ],
             [
              0.3333333333333333,
              "#9c179e"
             ],
             [
              0.4444444444444444,
              "#bd3786"
             ],
             [
              0.5555555555555556,
              "#d8576b"
             ],
             [
              0.6666666666666666,
              "#ed7953"
             ],
             [
              0.7777777777777778,
              "#fb9f3a"
             ],
             [
              0.8888888888888888,
              "#fdca26"
             ],
             [
              1,
              "#f0f921"
             ]
            ],
            "type": "contour"
           }
          ],
          "contourcarpet": [
           {
            "colorbar": {
             "outlinewidth": 0,
             "ticks": ""
            },
            "type": "contourcarpet"
           }
          ],
          "heatmap": [
           {
            "colorbar": {
             "outlinewidth": 0,
             "ticks": ""
            },
            "colorscale": [
             [
              0,
              "#0d0887"
             ],
             [
              0.1111111111111111,
              "#46039f"
             ],
             [
              0.2222222222222222,
              "#7201a8"
             ],
             [
              0.3333333333333333,
              "#9c179e"
             ],
             [
              0.4444444444444444,
              "#bd3786"
             ],
             [
              0.5555555555555556,
              "#d8576b"
             ],
             [
              0.6666666666666666,
              "#ed7953"
             ],
             [
              0.7777777777777778,
              "#fb9f3a"
             ],
             [
              0.8888888888888888,
              "#fdca26"
             ],
             [
              1,
              "#f0f921"
             ]
            ],
            "type": "heatmap"
           }
          ],
          "heatmapgl": [
           {
            "colorbar": {
             "outlinewidth": 0,
             "ticks": ""
            },
            "colorscale": [
             [
              0,
              "#0d0887"
             ],
             [
              0.1111111111111111,
              "#46039f"
             ],
             [
              0.2222222222222222,
              "#7201a8"
             ],
             [
              0.3333333333333333,
              "#9c179e"
             ],
             [
              0.4444444444444444,
              "#bd3786"
             ],
             [
              0.5555555555555556,
              "#d8576b"
             ],
             [
              0.6666666666666666,
              "#ed7953"
             ],
             [
              0.7777777777777778,
              "#fb9f3a"
             ],
             [
              0.8888888888888888,
              "#fdca26"
             ],
             [
              1,
              "#f0f921"
             ]
            ],
            "type": "heatmapgl"
           }
          ],
          "histogram": [
           {
            "marker": {
             "pattern": {
              "fillmode": "overlay",
              "size": 10,
              "solidity": 0.2
             }
            },
            "type": "histogram"
           }
          ],
          "histogram2d": [
           {
            "colorbar": {
             "outlinewidth": 0,
             "ticks": ""
            },
            "colorscale": [
             [
              0,
              "#0d0887"
             ],
             [
              0.1111111111111111,
              "#46039f"
             ],
             [
              0.2222222222222222,
              "#7201a8"
             ],
             [
              0.3333333333333333,
              "#9c179e"
             ],
             [
              0.4444444444444444,
              "#bd3786"
             ],
             [
              0.5555555555555556,
              "#d8576b"
             ],
             [
              0.6666666666666666,
              "#ed7953"
             ],
             [
              0.7777777777777778,
              "#fb9f3a"
             ],
             [
              0.8888888888888888,
              "#fdca26"
             ],
             [
              1,
              "#f0f921"
             ]
            ],
            "type": "histogram2d"
           }
          ],
          "histogram2dcontour": [
           {
            "colorbar": {
             "outlinewidth": 0,
             "ticks": ""
            },
            "colorscale": [
             [
              0,
              "#0d0887"
             ],
             [
              0.1111111111111111,
              "#46039f"
             ],
             [
              0.2222222222222222,
              "#7201a8"
             ],
             [
              0.3333333333333333,
              "#9c179e"
             ],
             [
              0.4444444444444444,
              "#bd3786"
             ],
             [
              0.5555555555555556,
              "#d8576b"
             ],
             [
              0.6666666666666666,
              "#ed7953"
             ],
             [
              0.7777777777777778,
              "#fb9f3a"
             ],
             [
              0.8888888888888888,
              "#fdca26"
             ],
             [
              1,
              "#f0f921"
             ]
            ],
            "type": "histogram2dcontour"
           }
          ],
          "mesh3d": [
           {
            "colorbar": {
             "outlinewidth": 0,
             "ticks": ""
            },
            "type": "mesh3d"
           }
          ],
          "parcoords": [
           {
            "line": {
             "colorbar": {
              "outlinewidth": 0,
              "ticks": ""
             }
            },
            "type": "parcoords"
           }
          ],
          "pie": [
           {
            "automargin": true,
            "type": "pie"
           }
          ],
          "scatter": [
           {
            "fillpattern": {
             "fillmode": "overlay",
             "size": 10,
             "solidity": 0.2
            },
            "type": "scatter"
           }
          ],
          "scatter3d": [
           {
            "line": {
             "colorbar": {
              "outlinewidth": 0,
              "ticks": ""
             }
            },
            "marker": {
             "colorbar": {
              "outlinewidth": 0,
              "ticks": ""
             }
            },
            "type": "scatter3d"
           }
          ],
          "scattercarpet": [
           {
            "marker": {
             "colorbar": {
              "outlinewidth": 0,
              "ticks": ""
             }
            },
            "type": "scattercarpet"
           }
          ],
          "scattergeo": [
           {
            "marker": {
             "colorbar": {
              "outlinewidth": 0,
              "ticks": ""
             }
            },
            "type": "scattergeo"
           }
          ],
          "scattergl": [
           {
            "marker": {
             "colorbar": {
              "outlinewidth": 0,
              "ticks": ""
             }
            },
            "type": "scattergl"
           }
          ],
          "scattermapbox": [
           {
            "marker": {
             "colorbar": {
              "outlinewidth": 0,
              "ticks": ""
             }
            },
            "type": "scattermapbox"
           }
          ],
          "scatterpolar": [
           {
            "marker": {
             "colorbar": {
              "outlinewidth": 0,
              "ticks": ""
             }
            },
            "type": "scatterpolar"
           }
          ],
          "scatterpolargl": [
           {
            "marker": {
             "colorbar": {
              "outlinewidth": 0,
              "ticks": ""
             }
            },
            "type": "scatterpolargl"
           }
          ],
          "scatterternary": [
           {
            "marker": {
             "colorbar": {
              "outlinewidth": 0,
              "ticks": ""
             }
            },
            "type": "scatterternary"
           }
          ],
          "surface": [
           {
            "colorbar": {
             "outlinewidth": 0,
             "ticks": ""
            },
            "colorscale": [
             [
              0,
              "#0d0887"
             ],
             [
              0.1111111111111111,
              "#46039f"
             ],
             [
              0.2222222222222222,
              "#7201a8"
             ],
             [
              0.3333333333333333,
              "#9c179e"
             ],
             [
              0.4444444444444444,
              "#bd3786"
             ],
             [
              0.5555555555555556,
              "#d8576b"
             ],
             [
              0.6666666666666666,
              "#ed7953"
             ],
             [
              0.7777777777777778,
              "#fb9f3a"
             ],
             [
              0.8888888888888888,
              "#fdca26"
             ],
             [
              1,
              "#f0f921"
             ]
            ],
            "type": "surface"
           }
          ],
          "table": [
           {
            "cells": {
             "fill": {
              "color": "#EBF0F8"
             },
             "line": {
              "color": "white"
             }
            },
            "header": {
             "fill": {
              "color": "#C8D4E3"
             },
             "line": {
              "color": "white"
             }
            },
            "type": "table"
           }
          ]
         },
         "layout": {
          "annotationdefaults": {
           "arrowcolor": "#2a3f5f",
           "arrowhead": 0,
           "arrowwidth": 1
          },
          "autotypenumbers": "strict",
          "coloraxis": {
           "colorbar": {
            "outlinewidth": 0,
            "ticks": ""
           }
          },
          "colorscale": {
           "diverging": [
            [
             0,
             "#8e0152"
            ],
            [
             0.1,
             "#c51b7d"
            ],
            [
             0.2,
             "#de77ae"
            ],
            [
             0.3,
             "#f1b6da"
            ],
            [
             0.4,
             "#fde0ef"
            ],
            [
             0.5,
             "#f7f7f7"
            ],
            [
             0.6,
             "#e6f5d0"
            ],
            [
             0.7,
             "#b8e186"
            ],
            [
             0.8,
             "#7fbc41"
            ],
            [
             0.9,
             "#4d9221"
            ],
            [
             1,
             "#276419"
            ]
           ],
           "sequential": [
            [
             0,
             "#0d0887"
            ],
            [
             0.1111111111111111,
             "#46039f"
            ],
            [
             0.2222222222222222,
             "#7201a8"
            ],
            [
             0.3333333333333333,
             "#9c179e"
            ],
            [
             0.4444444444444444,
             "#bd3786"
            ],
            [
             0.5555555555555556,
             "#d8576b"
            ],
            [
             0.6666666666666666,
             "#ed7953"
            ],
            [
             0.7777777777777778,
             "#fb9f3a"
            ],
            [
             0.8888888888888888,
             "#fdca26"
            ],
            [
             1,
             "#f0f921"
            ]
           ],
           "sequentialminus": [
            [
             0,
             "#0d0887"
            ],
            [
             0.1111111111111111,
             "#46039f"
            ],
            [
             0.2222222222222222,
             "#7201a8"
            ],
            [
             0.3333333333333333,
             "#9c179e"
            ],
            [
             0.4444444444444444,
             "#bd3786"
            ],
            [
             0.5555555555555556,
             "#d8576b"
            ],
            [
             0.6666666666666666,
             "#ed7953"
            ],
            [
             0.7777777777777778,
             "#fb9f3a"
            ],
            [
             0.8888888888888888,
             "#fdca26"
            ],
            [
             1,
             "#f0f921"
            ]
           ]
          },
          "colorway": [
           "#636efa",
           "#EF553B",
           "#00cc96",
           "#ab63fa",
           "#FFA15A",
           "#19d3f3",
           "#FF6692",
           "#B6E880",
           "#FF97FF",
           "#FECB52"
          ],
          "font": {
           "color": "#2a3f5f"
          },
          "geo": {
           "bgcolor": "white",
           "lakecolor": "white",
           "landcolor": "#E5ECF6",
           "showlakes": true,
           "showland": true,
           "subunitcolor": "white"
          },
          "hoverlabel": {
           "align": "left"
          },
          "hovermode": "closest",
          "mapbox": {
           "style": "light"
          },
          "paper_bgcolor": "white",
          "plot_bgcolor": "#E5ECF6",
          "polar": {
           "angularaxis": {
            "gridcolor": "white",
            "linecolor": "white",
            "ticks": ""
           },
           "bgcolor": "#E5ECF6",
           "radialaxis": {
            "gridcolor": "white",
            "linecolor": "white",
            "ticks": ""
           }
          },
          "scene": {
           "xaxis": {
            "backgroundcolor": "#E5ECF6",
            "gridcolor": "white",
            "gridwidth": 2,
            "linecolor": "white",
            "showbackground": true,
            "ticks": "",
            "zerolinecolor": "white"
           },
           "yaxis": {
            "backgroundcolor": "#E5ECF6",
            "gridcolor": "white",
            "gridwidth": 2,
            "linecolor": "white",
            "showbackground": true,
            "ticks": "",
            "zerolinecolor": "white"
           },
           "zaxis": {
            "backgroundcolor": "#E5ECF6",
            "gridcolor": "white",
            "gridwidth": 2,
            "linecolor": "white",
            "showbackground": true,
            "ticks": "",
            "zerolinecolor": "white"
           }
          },
          "shapedefaults": {
           "line": {
            "color": "#2a3f5f"
           }
          },
          "ternary": {
           "aaxis": {
            "gridcolor": "white",
            "linecolor": "white",
            "ticks": ""
           },
           "baxis": {
            "gridcolor": "white",
            "linecolor": "white",
            "ticks": ""
           },
           "bgcolor": "#E5ECF6",
           "caxis": {
            "gridcolor": "white",
            "linecolor": "white",
            "ticks": ""
           }
          },
          "title": {
           "x": 0.05
          },
          "xaxis": {
           "automargin": true,
           "gridcolor": "white",
           "linecolor": "white",
           "ticks": "",
           "title": {
            "standoff": 15
           },
           "zerolinecolor": "white",
           "zerolinewidth": 2
          },
          "yaxis": {
           "automargin": true,
           "gridcolor": "white",
           "linecolor": "white",
           "ticks": "",
           "title": {
            "standoff": 15
           },
           "zerolinecolor": "white",
           "zerolinewidth": 2
          }
         }
        },
        "title": {
         "text": "Normalized Logit Difference After Patching Residual Stream on the IOI Task"
        },
        "xaxis": {
         "anchor": "y",
         "constrain": "domain",
         "domain": [
          0,
          1
         ],
         "scaleanchor": "y",
         "title": {
          "text": "Position"
         }
        },
        "yaxis": {
         "anchor": "x",
         "autorange": "reversed",
         "constrain": "domain",
         "domain": [
          0,
          1
         ],
         "title": {
          "text": "Layer"
         }
        }
       }
      }
     },
     "metadata": {},
     "output_type": "display_data"
    }
   ],
   "source": [
    "print(f\"Clean logit difference: {clean_logit_diff.value:.3f}\")\n",
    "print(f\"Corrupted logit difference: {corrupted_logit_diff.value:.3f}\")\n",
    "\n",
    "ioi_patching_results = util.apply(ioi_patching_results, lambda x: x.value.item(), Proxy)\n",
    "\n",
    "clean_tokens = [model.tokenizer.decode(token) for token in clean_tokens]\n",
    "token_labels = [f\"{token}_{index}\" for index, token in enumerate(clean_tokens)]\n",
    "\n",
    "fig = px.imshow(\n",
    "    ioi_patching_results,\n",
    "    color_continuous_midpoint=0.0,\n",
    "    color_continuous_scale=\"RdBu\",\n",
    "    labels={\"x\": \"Position\", \"y\": \"Layer\"},\n",
    "    x=token_labels,\n",
    "    title=\"Normalized Logit Difference After Patching Residual Stream on the IOI Task\",\n",
    ")\n",
    "\n",
    "fig.show()"
   ]
  },
  {
   "cell_type": "code",
   "execution_count": null,
   "metadata": {},
   "outputs": [],
   "source": []
  }
 ],
 "metadata": {
  "kernelspec": {
   "display_name": "arena",
   "language": "python",
   "name": "python3"
  },
  "language_info": {
   "name": "python",
   "version": "3.11.5"
  }
 },
 "nbformat": 4,
 "nbformat_minor": 2
}
